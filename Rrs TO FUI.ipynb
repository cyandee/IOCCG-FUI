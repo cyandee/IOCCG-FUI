{
 "cells": [
  {
   "cell_type": "code",
   "execution_count": 1,
   "metadata": {},
   "outputs": [],
   "source": [
    "import numpy as np\n",
    "import pandas as pd"
   ]
  },
  {
   "cell_type": "code",
   "execution_count": 68,
   "metadata": {},
   "outputs": [],
   "source": [
    "# 导入数据\n",
    "cmf = pd.read_excel('/Users/cyano/Desktop/IOCCG-FUI/CMF.xlsx')\n",
    "ioccg = pd.read_excel('/Users/cyano/Desktop/IOCCG-FUI/IOCCG.xlsx')"
   ]
  },
  {
   "cell_type": "code",
   "execution_count": 69,
   "metadata": {},
   "outputs": [],
   "source": [
    "# dataframe 转换为numpy数组\n",
    "cmfu = cmf.to_numpy()\n",
    "ioc = ioccg.to_numpy()"
   ]
  },
  {
   "cell_type": "code",
   "execution_count": 70,
   "metadata": {},
   "outputs": [
    {
     "name": "stdout",
     "output_type": "stream",
     "text": [
      "(39, 4)\n",
      "(39, 500)\n"
     ]
    }
   ],
   "source": [
    "print(cmfu.shape)\n",
    "print(ioc.shape)"
   ]
  },
  {
   "cell_type": "code",
   "execution_count": 71,
   "metadata": {},
   "outputs": [
    {
     "data": {
      "text/plain": [
       "array([6.78500e-02, 2.07400e-01, 6.45600e-01, 1.38560e+00, 1.74706e+00,\n",
       "       1.77211e+00, 1.66920e+00, 1.28764e+00, 8.12950e-01, 4.65180e-01,\n",
       "       2.72000e-01, 1.58200e-01, 7.82500e-02, 4.21600e-02, 2.03000e-02,\n",
       "       8.75000e-03, 3.90000e-03, 2.10000e-03, 1.65000e-03, 1.10000e-03,\n",
       "       8.00000e-04, 3.40000e-04, 1.90000e-04, 5.00000e-05, 2.00000e-05,\n",
       "       0.00000e+00, 0.00000e+00, 0.00000e+00, 0.00000e+00, 0.00000e+00,\n",
       "       0.00000e+00, 0.00000e+00, 0.00000e+00, 0.00000e+00, 0.00000e+00,\n",
       "       0.00000e+00, 0.00000e+00, 0.00000e+00, 0.00000e+00])"
      ]
     },
     "execution_count": 71,
     "metadata": {},
     "output_type": "execute_result"
    }
   ],
   "source": [
    "# wave 是波长\n",
    "wave = cmfu[:,0]\n",
    "# cx 是x的光谱响应函数\n",
    "cx = cmfu[:,1]\n",
    "cy = cmfu[:,2]\n",
    "cz = cmfu[:,3]\n",
    "cz"
   ]
  },
  {
   "cell_type": "code",
   "execution_count": 72,
   "metadata": {},
   "outputs": [
    {
     "data": {
      "text/html": [
       "<div>\n",
       "<style scoped>\n",
       "    .dataframe tbody tr th:only-of-type {\n",
       "        vertical-align: middle;\n",
       "    }\n",
       "\n",
       "    .dataframe tbody tr th {\n",
       "        vertical-align: top;\n",
       "    }\n",
       "\n",
       "    .dataframe thead th {\n",
       "        text-align: right;\n",
       "    }\n",
       "</style>\n",
       "<table border=\"1\" class=\"dataframe\">\n",
       "  <thead>\n",
       "    <tr style=\"text-align: right;\">\n",
       "      <th></th>\n",
       "      <th>IO1</th>\n",
       "      <th>IO2</th>\n",
       "      <th>IO3</th>\n",
       "      <th>IO4</th>\n",
       "      <th>IO5</th>\n",
       "      <th>IO6</th>\n",
       "      <th>IO7</th>\n",
       "      <th>IO8</th>\n",
       "      <th>IO9</th>\n",
       "      <th>IO10</th>\n",
       "      <th>...</th>\n",
       "      <th>IO491</th>\n",
       "      <th>IO492</th>\n",
       "      <th>IO493</th>\n",
       "      <th>IO494</th>\n",
       "      <th>IO495</th>\n",
       "      <th>IO496</th>\n",
       "      <th>IO497</th>\n",
       "      <th>IO498</th>\n",
       "      <th>IO499</th>\n",
       "      <th>IO500</th>\n",
       "    </tr>\n",
       "  </thead>\n",
       "  <tbody>\n",
       "    <tr>\n",
       "      <td>0</td>\n",
       "      <td>0.015763</td>\n",
       "      <td>0.009568</td>\n",
       "      <td>0.011929</td>\n",
       "      <td>0.012547</td>\n",
       "      <td>0.013225</td>\n",
       "      <td>0.012482</td>\n",
       "      <td>0.012780</td>\n",
       "      <td>0.010928</td>\n",
       "      <td>0.011266</td>\n",
       "      <td>0.012740</td>\n",
       "      <td>...</td>\n",
       "      <td>0.000580</td>\n",
       "      <td>0.000561</td>\n",
       "      <td>0.000593</td>\n",
       "      <td>0.003004</td>\n",
       "      <td>0.000971</td>\n",
       "      <td>0.001012</td>\n",
       "      <td>0.001044</td>\n",
       "      <td>0.001263</td>\n",
       "      <td>0.002709</td>\n",
       "      <td>0.002060</td>\n",
       "    </tr>\n",
       "    <tr>\n",
       "      <td>1</td>\n",
       "      <td>0.016610</td>\n",
       "      <td>0.010074</td>\n",
       "      <td>0.012356</td>\n",
       "      <td>0.013503</td>\n",
       "      <td>0.013914</td>\n",
       "      <td>0.013399</td>\n",
       "      <td>0.013701</td>\n",
       "      <td>0.011291</td>\n",
       "      <td>0.011980</td>\n",
       "      <td>0.013464</td>\n",
       "      <td>...</td>\n",
       "      <td>0.000619</td>\n",
       "      <td>0.000629</td>\n",
       "      <td>0.000672</td>\n",
       "      <td>0.003142</td>\n",
       "      <td>0.001072</td>\n",
       "      <td>0.001183</td>\n",
       "      <td>0.001168</td>\n",
       "      <td>0.001342</td>\n",
       "      <td>0.002974</td>\n",
       "      <td>0.002308</td>\n",
       "    </tr>\n",
       "    <tr>\n",
       "      <td>2</td>\n",
       "      <td>0.015826</td>\n",
       "      <td>0.009841</td>\n",
       "      <td>0.011951</td>\n",
       "      <td>0.013562</td>\n",
       "      <td>0.013326</td>\n",
       "      <td>0.013222</td>\n",
       "      <td>0.013545</td>\n",
       "      <td>0.010840</td>\n",
       "      <td>0.011830</td>\n",
       "      <td>0.013283</td>\n",
       "      <td>...</td>\n",
       "      <td>0.000665</td>\n",
       "      <td>0.000706</td>\n",
       "      <td>0.000760</td>\n",
       "      <td>0.003296</td>\n",
       "      <td>0.001176</td>\n",
       "      <td>0.001382</td>\n",
       "      <td>0.001309</td>\n",
       "      <td>0.001430</td>\n",
       "      <td>0.003267</td>\n",
       "      <td>0.002586</td>\n",
       "    </tr>\n",
       "    <tr>\n",
       "      <td>3</td>\n",
       "      <td>0.014521</td>\n",
       "      <td>0.009403</td>\n",
       "      <td>0.011276</td>\n",
       "      <td>0.013268</td>\n",
       "      <td>0.012498</td>\n",
       "      <td>0.012566</td>\n",
       "      <td>0.012929</td>\n",
       "      <td>0.010125</td>\n",
       "      <td>0.011327</td>\n",
       "      <td>0.012755</td>\n",
       "      <td>...</td>\n",
       "      <td>0.000712</td>\n",
       "      <td>0.000792</td>\n",
       "      <td>0.000867</td>\n",
       "      <td>0.003501</td>\n",
       "      <td>0.001290</td>\n",
       "      <td>0.001604</td>\n",
       "      <td>0.001455</td>\n",
       "      <td>0.001511</td>\n",
       "      <td>0.003572</td>\n",
       "      <td>0.002850</td>\n",
       "    </tr>\n",
       "    <tr>\n",
       "      <td>4</td>\n",
       "      <td>0.012722</td>\n",
       "      <td>0.008572</td>\n",
       "      <td>0.010238</td>\n",
       "      <td>0.012384</td>\n",
       "      <td>0.011016</td>\n",
       "      <td>0.011373</td>\n",
       "      <td>0.011604</td>\n",
       "      <td>0.008913</td>\n",
       "      <td>0.010410</td>\n",
       "      <td>0.011821</td>\n",
       "      <td>...</td>\n",
       "      <td>0.000776</td>\n",
       "      <td>0.000892</td>\n",
       "      <td>0.000994</td>\n",
       "      <td>0.003809</td>\n",
       "      <td>0.001427</td>\n",
       "      <td>0.001869</td>\n",
       "      <td>0.001629</td>\n",
       "      <td>0.001619</td>\n",
       "      <td>0.003935</td>\n",
       "      <td>0.003177</td>\n",
       "    </tr>\n",
       "  </tbody>\n",
       "</table>\n",
       "<p>5 rows × 500 columns</p>\n",
       "</div>"
      ],
      "text/plain": [
       "        IO1       IO2       IO3       IO4       IO5       IO6       IO7  \\\n",
       "0  0.015763  0.009568  0.011929  0.012547  0.013225  0.012482  0.012780   \n",
       "1  0.016610  0.010074  0.012356  0.013503  0.013914  0.013399  0.013701   \n",
       "2  0.015826  0.009841  0.011951  0.013562  0.013326  0.013222  0.013545   \n",
       "3  0.014521  0.009403  0.011276  0.013268  0.012498  0.012566  0.012929   \n",
       "4  0.012722  0.008572  0.010238  0.012384  0.011016  0.011373  0.011604   \n",
       "\n",
       "        IO8       IO9      IO10  ...     IO491     IO492     IO493     IO494  \\\n",
       "0  0.010928  0.011266  0.012740  ...  0.000580  0.000561  0.000593  0.003004   \n",
       "1  0.011291  0.011980  0.013464  ...  0.000619  0.000629  0.000672  0.003142   \n",
       "2  0.010840  0.011830  0.013283  ...  0.000665  0.000706  0.000760  0.003296   \n",
       "3  0.010125  0.011327  0.012755  ...  0.000712  0.000792  0.000867  0.003501   \n",
       "4  0.008913  0.010410  0.011821  ...  0.000776  0.000892  0.000994  0.003809   \n",
       "\n",
       "      IO495     IO496     IO497     IO498     IO499     IO500  \n",
       "0  0.000971  0.001012  0.001044  0.001263  0.002709  0.002060  \n",
       "1  0.001072  0.001183  0.001168  0.001342  0.002974  0.002308  \n",
       "2  0.001176  0.001382  0.001309  0.001430  0.003267  0.002586  \n",
       "3  0.001290  0.001604  0.001455  0.001511  0.003572  0.002850  \n",
       "4  0.001427  0.001869  0.001629  0.001619  0.003935  0.003177  \n",
       "\n",
       "[5 rows x 500 columns]"
      ]
     },
     "execution_count": 72,
     "metadata": {},
     "output_type": "execute_result"
    }
   ],
   "source": [
    "ioccg.head(5)"
   ]
  },
  {
   "cell_type": "code",
   "execution_count": 73,
   "metadata": {},
   "outputs": [],
   "source": [
    "# fx,fy,fz 分别是颜色响应函数 cx,cy,cz 与ioccg-Rrs的乘积\n",
    "fx = np.zeros(shape = (39,500))\n",
    "fy = np.zeros(shape = (39,500))\n",
    "fz = np.zeros(shape = (39,500))\n",
    "i = 0\n",
    "while i <= 499:\n",
    "    fx[:,i] = cx*ioc[:,i]\n",
    "    fy[:,i] = cy*ioc[:,i]\n",
    "    fz[:,i] = cz*ioc[:,i]\n",
    "    i += 1"
   ]
  },
  {
   "cell_type": "code",
   "execution_count": 74,
   "metadata": {},
   "outputs": [
    {
     "data": {
      "image/png": "[encoded data removed]",
      "text/plain": [
       "<Figure size 432x288 with 1 Axes>"
      ]
     },
     "metadata": {
      "needs_background": "light"
     },
     "output_type": "display_data"
    }
   ],
   "source": [
    "import matplotlib.pyplot as plt\n",
    "fx1 = fx[:,0]\n",
    "plt.scatter(wave,fx1)\n",
    "plt.show()"
   ]
  },
  {
   "cell_type": "code",
   "execution_count": 75,
   "metadata": {},
   "outputs": [
    {
     "data": {
      "text/plain": [
       "(39, 500)"
      ]
     },
     "execution_count": 75,
     "metadata": {},
     "output_type": "execute_result"
    }
   ],
   "source": [
    "fx.shape"
   ]
  },
  {
   "cell_type": "code",
   "execution_count": 76,
   "metadata": {},
   "outputs": [],
   "source": [
    "# hx,hy,hz 为cx*Rrs 的积分结果，是 CIE-XYZ 系统中的 XYZ\n",
    "# 以下过程将 积分结果 分别储存在一个（1，500）的ndarray中\n",
    "hx = np.zeros(shape = (1,500))\n",
    "hy = np.zeros(shape = (1,500))\n",
    "hz = np.zeros(shape = (1,500))\n",
    "i = 0\n",
    "while i <= 499:\n",
    "    hx[0,i] = np.trapz(fx[:,i],x = wave)\n",
    "    hy[0,i] = np.trapz(fy[:,i],x = wave)\n",
    "    hz[0,i] = np.trapz(fz[:,i],x = wave)\n",
    "    i += 1"
   ]
  },
  {
   "cell_type": "code",
   "execution_count": 78,
   "metadata": {},
   "outputs": [
    {
     "data": {
      "text/plain": [
       "0.1679490458023463"
      ]
     },
     "execution_count": 78,
     "metadata": {},
     "output_type": "execute_result"
    }
   ],
   "source": [
    "# 积分结果为 CIE-XYZ 系统中的 XYZ,需要将至归一化为 xyz\n",
    "x = hx/(hx + hy + hz) \n",
    "y = hy/(hx + hy + hz)\n",
    "z = hz/(hx + hy + hz)\n",
    "x[0,0]"
   ]
  },
  {
   "cell_type": "code",
   "execution_count": 108,
   "metadata": {},
   "outputs": [],
   "source": [
    "# xyz 转化为色度角 angle\n",
    "import math\n",
    "hue_band = np.zeros(shape = (1,500))\n",
    "angle = np.zeros(shape = (1,500))\n",
    "i = 0\n",
    "while i <= 499:\n",
    "    hue_band[0,i] = math.atan2((y[0,i] - 1/3),(x[0,i] - 1/3))\n",
    "    i += 1\n",
    "hue_angle = np.where(hue_band > 0,hue_band,hue_band + math.pi*2)\n",
    "j = 0\n",
    "while j <= 499:\n",
    "    angle[0,j] = math.degrees(hue_angle[0,j])\n",
    "    j += 1\n"
   ]
  },
  {
   "cell_type": "markdown",
   "metadata": {},
   "source": [
    "## 色度角转换为FUI并导出到excel"
   ]
  },
  {
   "cell_type": "code",
   "execution_count": 172,
   "metadata": {},
   "outputs": [],
   "source": [
    "# hue_tran 为 FUI 查找表，根据 hue_tran 将 FUI 分为21个等级\n",
    "# 转换 angle 为 series\n",
    "angle1 = angle.reshape(500,)\n",
    "list_angle = pd.Series(angle1)\n",
    "fui = []\n",
    "fui_level = list(range(1,22))\n",
    "angle_tran = [232.0, 220.977, 209.994, 190.779, 163.084, 132.999,\n",
    "            109.054, 94.037, 83.346, 74.572, 67.957, 62.186, 56.435,\n",
    "            50.665, 45.129, 39.769, 34.906, 30.439, 26.337, 22.741, 19.0]\n",
    "for t in list_angle:\n",
    "    i = 0\n",
    "    while t < angle_tran[i]:\n",
    "        i += 1\n",
    "    fui.append(i+1)\n",
    "FUI = pd.Series(fui)\n",
    "FUI.to_excel('/Users/cyano/Desktop/IOCCG-FUI/ioccg-fui.xlsx')"
   ]
  },
  {
   "cell_type": "code",
   "execution_count": null,
   "metadata": {},
   "outputs": [],
   "source": []
  },
  {
   "cell_type": "code",
   "execution_count": null,
   "metadata": {},
   "outputs": [],
   "source": []
  },
  {
   "cell_type": "code",
   "execution_count": null,
   "metadata": {},
   "outputs": [],
   "source": []
  },
  {
   "cell_type": "code",
   "execution_count": null,
   "metadata": {},
   "outputs": [],
   "source": []
  }
 ],
 "metadata": {
  "kernelspec": {
   "display_name": "Python 3",
   "language": "python",
   "name": "python3"
  },
  "language_info": {
   "codemirror_mode": {
    "name": "ipython",
    "version": 3
   },
   "file_extension": ".py",
   "mimetype": "text/x-python",
   "name": "python",
   "nbconvert_exporter": "python",
   "pygments_lexer": "ipython3",
   "version": "3.7.4"
  }
 },
 "nbformat": 4,
 "nbformat_minor": 2
}
